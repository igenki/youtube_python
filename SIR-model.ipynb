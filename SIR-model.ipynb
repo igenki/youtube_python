{
 "cells": [
  {
   "cell_type": "markdown",
   "metadata": {},
   "source": [
    "# SIRモデルのシミュレーション"
   ]
  },
  {
   "cell_type": "markdown",
   "metadata": {},
   "source": [
    "対応する動画：[【研究で使うPython】#20 SIRモデルによる感染症伝播のシミュレーション](https://youtu.be/7oyd02Li9ks)\n",
    "\n",
    "動画のプレイリスト：[研究で使うPython](https://www.youtube.com/playlist?list=PLw5AEs-T7pLHxLaNvGD9tnhrDxAgH-QIw)"
   ]
  },
  {
   "cell_type": "markdown",
   "metadata": {},
   "source": [
    "$$\n",
    "\\begin{cases}\n",
    "\\frac{dS(t)}{dt} = -\\beta S(t) I(t)\\\\\n",
    "\\frac{dI(t)}{dt} = \\beta S(t) I(t) - \\gamma I(t)\\\\\n",
    "\\frac{dR(t)}{dt} = \\gamma I(t)\n",
    "\\end{cases}\n",
    "$$"
   ]
  },
  {
   "cell_type": "code",
   "execution_count": 5,
   "metadata": {},
   "outputs": [
    {
     "data": {
      "text/plain": [
       "<matplotlib.legend.Legend at 0x1e7d8fffdf0>"
      ]
     },
     "execution_count": 5,
     "metadata": {},
     "output_type": "execute_result"
    },
    {
     "data": {
      "image/png": "[encoded data removed]",
      "text/plain": [
       "<Figure size 432x288 with 1 Axes>"
      ]
     },
     "metadata": {
      "needs_background": "light"
     },
     "output_type": "display_data"
    }
   ],
   "source": [
    "%matplotlib inline\n",
    "import matplotlib.pyplot as plt\n",
    "\n",
    "# SIRモデル\n",
    "beta = 0.002 # 感染率\n",
    "gamma = 1 # 回復率\n",
    "S0 = 1000\n",
    "I0 = 1\n",
    "R0 = 0\n",
    "\n",
    "dt = 0.0001 # 刻み幅\n",
    "t = 0\n",
    "S = S0\n",
    "I = I0\n",
    "R = R0\n",
    "SList = [S0]\n",
    "IList = [I0]\n",
    "RList = [R0]\n",
    "tList = [t]\n",
    "for i in range(300000):\n",
    "    t = dt*(i+1)\n",
    "    S_ = S + dt*(-beta*S*I)\n",
    "    I_ = I + dt*(beta*S*I-gamma*I)\n",
    "    R_ = R + dt*(gamma*I)\n",
    "    S = S_\n",
    "    I = I_\n",
    "    R = R_\n",
    "    tList.append(t)\n",
    "    SList.append(S)\n",
    "    IList.append(I)\n",
    "    RList.append(R)\n",
    "plt.plot(tList, SList, color='green', label='S')\n",
    "plt.plot(tList, IList, color='red', label='I')\n",
    "plt.plot(tList, RList, color='blue', label='R')\n",
    "plt.legend()"
   ]
  },
  {
   "cell_type": "code",
   "execution_count": null,
   "metadata": {},
   "outputs": [],
   "source": []
  }
 ],
 "metadata": {
  "kernelspec": {
   "display_name": "Python 3",
   "language": "python",
   "name": "python3"
  },
  "language_info": {
   "codemirror_mode": {
    "name": "ipython",
    "version": 3
   },
   "file_extension": ".py",
   "mimetype": "text/x-python",
   "name": "python",
   "nbconvert_exporter": "python",
   "pygments_lexer": "ipython3",
   "version": "3.7.6"
  }
 },
 "nbformat": 4,
 "nbformat_minor": 4
}
