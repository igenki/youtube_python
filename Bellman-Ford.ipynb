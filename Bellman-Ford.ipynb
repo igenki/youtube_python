{
 "cells": [
  {
   "cell_type": "markdown",
   "metadata": {},
   "source": [
    "# NetworkXによるベルマンフォード法"
   ]
  },
  {
   "cell_type": "markdown",
   "metadata": {},
   "source": [
    "対応する動画：[NetworkXで最短経路問題　⑯ベルマンフォード法【研究で使うPython #59】](https://youtu.be/WvNV6fQdi9Q)\n",
    "\n",
    "動画のプレイリスト：[研究で使うPython](https://www.youtube.com/playlist?list=PLw5AEs-T7pLHxLaNvGD9tnhrDxAgH-QIw)"
   ]
  },
  {
   "cell_type": "markdown",
   "metadata": {},
   "source": [
    "## 必要モジュールのインポート"
   ]
  },
  {
   "cell_type": "code",
   "execution_count": 1,
   "metadata": {},
   "outputs": [],
   "source": [
    "%matplotlib inline\n",
    "import networkx as nx"
   ]
  },
  {
   "cell_type": "markdown",
   "metadata": {},
   "source": [
    "## ネットワークの生成"
   ]
  },
  {
   "cell_type": "code",
   "execution_count": 5,
   "metadata": {},
   "outputs": [
    {
     "data": {
      "image/png": "[encoded data removed]",
      "text/plain": [
       "<Figure size 432x288 with 1 Axes>"
      ]
     },
     "metadata": {},
     "output_type": "display_data"
    }
   ],
   "source": [
    "G = nx.DiGraph() # 空の有向グラフ生成\n",
    "\n",
    "# 重み付きグラフの生成\n",
    "nodes = [0, 1, 2, 3, 4, 5] # ノード\n",
    "edges = [(0, 1, 5), (0, 2, 4), (0, 3, 5), (1, 4,-1), (2, 4, -1), (3, 2, -1), (3, 5, -3), (4, 5, 3), (2, 1, -2)]\n",
    "\n",
    "\n",
    "G.add_nodes_from(nodes)\n",
    "G.add_weighted_edges_from(edges)\n",
    "\n",
    "# 各ノードの座標\n",
    "pos = {0:(0,0), 1:(1,1), 2:(1,0), 3:(1,-1), 4:(2,1), 5:(2,-1)}\n",
    "\n",
    "# 重み（距離）の表示\n",
    "#nx.draw_networkx_edge_labels(G, pos)\n",
    "\n",
    "# 重みのみの表示\n",
    "edge_labels=dict([((u,v,),d['weight']) for u,v,d in G.edges(data=True)])\n",
    "nx.draw_networkx_edge_labels(G,pos,edge_labels=edge_labels)\n",
    "\n",
    "# 描画\n",
    "nx.draw(G, pos, with_labels=True)"
   ]
  },
  {
   "cell_type": "markdown",
   "metadata": {},
   "source": [
    "## 自作のベルマンフォード法"
   ]
  },
  {
   "cell_type": "code",
   "execution_count": 3,
   "metadata": {},
   "outputs": [
    {
     "name": "stdout",
     "output_type": "stream",
     "text": [
      "[0, 2, 4, 5, 3, 2]\n",
      "[0, 2, 4, 5, 1, 2]\n",
      "[0, 2, 4, 5, 1, 2]\n",
      "[0, 2, 4, 5, 1, 2]\n",
      "[0, 2, 4, 5, 1, 2]\n"
     ]
    }
   ],
   "source": [
    "INF = 100000 # 十分大きい値\n",
    "V = len(nodes) # ノード数\n",
    "D = [INF for i in range(V)] # 更新していく各ノードまでの最小コスト配列(全てINFで初期化)\n",
    "D[0] = 0 # 始点のコストを0に設定\n",
    "\n",
    "for i in range(V-1): # 負の閉路がない場合，V-1のループで終了できる\n",
    "    for e in edges:\n",
    "        if D[e[0]] + e[2] < D[e[1]]: # （ノードuの最小コスト＋エッジのコスト）＜（ノードvの暫定最小コスト）\n",
    "            D[e[1]] = D[e[0]] + e[2] # ノードvの暫定最小コストを更新\n",
    "    print(D)"
   ]
  },
  {
   "cell_type": "markdown",
   "metadata": {},
   "source": [
    "## NetworkXの組み込み関数を使ったベルマンフォード法"
   ]
  },
  {
   "cell_type": "code",
   "execution_count": 4,
   "metadata": {},
   "outputs": [
    {
     "name": "stdout",
     "output_type": "stream",
     "text": [
      "({0: 0, 1: 2, 2: 4, 3: 5, 4: 1, 5: 2}, {0: [0], 1: [0, 2, 1], 2: [0, 2], 3: [0, 3], 4: [0, 2, 1, 4], 5: [0, 3, 5]})\n"
     ]
    }
   ],
   "source": [
    "print(nx.single_source_bellman_ford(G, 0))"
   ]
  }
 ],
 "metadata": {
  "kernelspec": {
   "display_name": "Python 3",
   "language": "python",
   "name": "python3"
  },
  "language_info": {
   "codemirror_mode": {
    "name": "ipython",
    "version": 3
   },
   "file_extension": ".py",
   "mimetype": "text/x-python",
   "name": "python",
   "nbconvert_exporter": "python",
   "pygments_lexer": "ipython3",
   "version": "3.7.6"
  }
 },
 "nbformat": 4,
 "nbformat_minor": 4
}
