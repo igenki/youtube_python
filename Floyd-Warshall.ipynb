{
 "cells": [
  {
   "cell_type": "markdown",
   "metadata": {},
   "source": [
    "# NetworkXによるワーシャルフロイド法"
   ]
  },
  {
   "cell_type": "markdown",
   "metadata": {},
   "source": [
    "対応する動画：[⑰ワーシャルフロイド法　NetworkXで最短経路問題【研究で使うPython #60】](https://youtu.be/qUICO9qz5E8)\n",
    "\n",
    "動画のプレイリスト：[研究で使うPython](https://www.youtube.com/playlist?list=PLw5AEs-T7pLHxLaNvGD9tnhrDxAgH-QIw)"
   ]
  },
  {
   "cell_type": "markdown",
   "metadata": {},
   "source": [
    "## 必要モジュールのインポート"
   ]
  },
  {
   "cell_type": "code",
   "execution_count": 1,
   "metadata": {},
   "outputs": [],
   "source": [
    "%matplotlib inline\n",
    "import networkx as nx"
   ]
  },
  {
   "cell_type": "markdown",
   "metadata": {},
   "source": [
    "## ネットワークの生成"
   ]
  },
  {
   "cell_type": "code",
   "execution_count": 2,
   "metadata": {
    "scrolled": true
   },
   "outputs": [
    {
     "data": {
      "image/png": "[encoded data removed]",
      "text/plain": [
       "<Figure size 432x288 with 1 Axes>"
      ]
     },
     "metadata": {},
     "output_type": "display_data"
    }
   ],
   "source": [
    "G = nx.DiGraph() # 空の有向グラフ生成\n",
    "\n",
    "# 重み付きグラフの生成\n",
    "nodes = [1, 2, 3, 4] # ノード\n",
    "edges = [(1, 2, 8), (1, 3, -3), (2, 1, 5), (2, 4, 2), (3, 2, 4), (4, 3, 1)]\n",
    "\n",
    "G.add_nodes_from(nodes)\n",
    "G.add_weighted_edges_from(edges)\n",
    "\n",
    "# 各ノードの座標\n",
    "pos = {1:(0,1), 2:(1,1), 3:(0,0), 4:(1,0)}\n",
    "\n",
    "# 重み（距離）の表示\n",
    "#nx.draw_networkx_edge_labels(G, pos)\n",
    "\n",
    "# 重みのみの表示\n",
    "edge_labels=dict([((u,v,),d['weight']) for u,v,d in G.edges(data=True)])\n",
    "nx.draw_networkx_edge_labels(G,pos,edge_labels=edge_labels)\n",
    "\n",
    "# 描画\n",
    "nx.draw(G, pos, with_labels=True)"
   ]
  },
  {
   "cell_type": "markdown",
   "metadata": {},
   "source": [
    "## 自作のワ―シャルフロイド法"
   ]
  },
  {
   "cell_type": "code",
   "execution_count": 3,
   "metadata": {},
   "outputs": [
    {
     "name": "stdout",
     "output_type": "stream",
     "text": [
      "辺が存在するペア： [(1, 2), (1, 3), (2, 1), (2, 4), (3, 2), (4, 3)]\n",
      "D0行列： [[0, 8, -3, 100000], [5, 0, 100000, 2], [100000, 4, 0, 100000], [100000, 100000, 1, 0]]\n",
      "D 1 行列： [[0, 8, -3, 100000], [5, 0, 2, 2], [100000, 4, 0, 100000], [100000, 100000, 1, 0]]\n",
      "D 2 行列： [[0, 8, -3, 10], [5, 0, 2, 2], [9, 4, 0, 6], [100000, 100000, 1, 0]]\n",
      "D 3 行列： [[0, 1, -3, 3], [5, 0, 2, 2], [9, 4, 0, 6], [10, 5, 1, 0]]\n",
      "D 4 行列： [[0, 1, -3, 3], [5, 0, 2, 2], [9, 4, 0, 6], [10, 5, 1, 0]]\n",
      "最終結果： [[0, 1, -3, 3], [5, 0, 2, 2], [9, 4, 0, 6], [10, 5, 1, 0]]\n"
     ]
    }
   ],
   "source": [
    "INF = 100000 # 十分大きい値\n",
    "V = len(nodes) # ノード数\n",
    "\n",
    "edges_exist = [edge[:2] for edge in edges] # 下の行で初期化する際、辺が存在するか知るために用いる\n",
    "print('辺が存在するペア：',edges_exist)\n",
    "\n",
    "G_array = [[edges[edges_exist.index((i+1, j+1))][2] if (i+1, j+1) in edges_exist else INF for j in range(V)] for i in range(V)] # 初期化  ※経路がない＝経路の長さが無限大\n",
    "\n",
    "# 対角成分を0で上書き\n",
    "for i in range(V):\n",
    "    G_array[i][i] = 0\n",
    "    \n",
    "print('D0行列：',G_array)\n",
    "\n",
    "for k in range(V):         # 経由する頂点\n",
    "    for i in range(V):     # 始点\n",
    "        for j in range(V): # 終点\n",
    "            G_array[i][j] = min(G_array[i][j], G_array[i][k] + G_array[k][j])\n",
    "    print('D',k+1,'行列：',G_array)\n",
    "\n",
    "print('最終結果：',G_array)"
   ]
  },
  {
   "cell_type": "markdown",
   "metadata": {},
   "source": [
    "## NetworkXの組み込み関数を使ったワーシャルフロイド法"
   ]
  },
  {
   "cell_type": "code",
   "execution_count": 4,
   "metadata": {},
   "outputs": [
    {
     "name": "stdout",
     "output_type": "stream",
     "text": [
      "{1: {1: 0, 2: 1, 3: -3, 4: 3}, 2: {2: 0, 1: 5, 4: 2, 3: 2}, 3: {3: 0, 2: 4, 1: 9, 4: 6}, 4: {4: 0, 3: 1, 1: 10, 2: 5}}\n"
     ]
    }
   ],
   "source": [
    "X = nx.floyd_warshall(G)\n",
    "Y = {a:dict(b) for a,b in X.items()}\n",
    "print(Y)"
   ]
  }
 ],
 "metadata": {
  "kernelspec": {
   "display_name": "Python 3",
   "language": "python",
   "name": "python3"
  },
  "language_info": {
   "codemirror_mode": {
    "name": "ipython",
    "version": 3
   },
   "file_extension": ".py",
   "mimetype": "text/x-python",
   "name": "python",
   "nbconvert_exporter": "python",
   "pygments_lexer": "ipython3",
   "version": "3.7.6"
  }
 },
 "nbformat": 4,
 "nbformat_minor": 4
}
