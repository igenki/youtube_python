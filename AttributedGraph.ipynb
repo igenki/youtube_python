{
 "cells": [
  {
   "cell_type": "markdown",
   "metadata": {},
   "source": [
    "# ノードやエッジに属性を追加したグラフ\n",
    "対応する動画：[NetworkXによるネットワーク分析　⑲属性付きグラフの作成と可視化【研究で使うPython #77】](https://youtu.be/mBIwCmyswJs)\n",
    "\n",
    "動画のプレイリスト：[NetworkXによるネットワーク分析](https://youtube.com/playlist?list=PLw5AEs-T7pLHBRJRinkqTRv7qNO-_P3Rj)"
   ]
  },
  {
   "cell_type": "code",
   "execution_count": 1,
   "metadata": {},
   "outputs": [
    {
     "data": {
      "image/png": "[encoded data removed]",
      "text/plain": [
       "<Figure size 432x288 with 1 Axes>"
      ]
     },
     "metadata": {},
     "output_type": "display_data"
    }
   ],
   "source": [
    "%matplotlib inline\n",
    "import networkx as nx # NetworkXをインポート\n",
    "import matplotlib.pyplot as plt\n",
    "\n",
    "# ネットワーク生成\n",
    "G = nx.Graph() # 空の無向グラフ生成\n",
    "\n",
    "nodes = ['A', 'B', 'C', 'D', 'E']\n",
    "edges = [('A', 'B'), ('A', 'E'), ('B', 'D'), ('B', 'E'), ('C', 'E')]\n",
    "\n",
    "G.add_nodes_from(nodes)\n",
    "G.add_edges_from(edges)\n",
    "\n",
    "nx.draw(G, pos=nx.circular_layout(G), with_labels=True, node_color='red', node_size=500, font_size=20)\n",
    "plt.show()"
   ]
  },
  {
   "cell_type": "markdown",
   "metadata": {},
   "source": [
    "## ノードに属性の追加"
   ]
  },
  {
   "cell_type": "code",
   "execution_count": 2,
   "metadata": {},
   "outputs": [],
   "source": [
    "G.nodes['A']['性別']='M'\n",
    "G.nodes['B']['性別']='F'\n",
    "G.nodes['C']['性別']='M'\n",
    "G.nodes['D']['性別']='F'\n",
    "G.nodes['E']['性別']='F'\n",
    "\n",
    "G.nodes['A']['年齢']=18\n",
    "G.nodes['B']['年齢']=22\n",
    "G.nodes['C']['年齢']=19\n",
    "G.nodes['D']['年齢']=20\n",
    "G.nodes['E']['年齢']=22"
   ]
  },
  {
   "cell_type": "markdown",
   "metadata": {},
   "source": [
    "## 追加された属性の表示"
   ]
  },
  {
   "cell_type": "code",
   "execution_count": 3,
   "metadata": {},
   "outputs": [
    {
     "name": "stdout",
     "output_type": "stream",
     "text": [
      "A\n",
      "B\n",
      "C\n",
      "D\n",
      "E\n"
     ]
    }
   ],
   "source": [
    "for i in G.nodes():\n",
    "#for i in G.nodes(data=True):\n",
    "    print(i)"
   ]
  },
  {
   "cell_type": "markdown",
   "metadata": {},
   "source": [
    "## エッジに属性の追加"
   ]
  },
  {
   "cell_type": "code",
   "execution_count": 4,
   "metadata": {},
   "outputs": [],
   "source": [
    "G.edges['A', 'B']['weight']=0.8\n",
    "G.edges['A', 'E']['weight']=0.1\n",
    "G.edges['B', 'D']['weight']=1.0\n",
    "G.edges['B', 'E']['weight']=0.4\n",
    "G.edges['C', 'E']['weight']=0.3"
   ]
  },
  {
   "cell_type": "markdown",
   "metadata": {},
   "source": [
    "## 追加された属性の表示"
   ]
  },
  {
   "cell_type": "code",
   "execution_count": 5,
   "metadata": {},
   "outputs": [
    {
     "name": "stdout",
     "output_type": "stream",
     "text": [
      "('A', 'B', {'weight': 0.8})\n",
      "('A', 'E', {'weight': 0.1})\n",
      "('B', 'D', {'weight': 1.0})\n",
      "('B', 'E', {'weight': 0.4})\n",
      "('C', 'E', {'weight': 0.3})\n"
     ]
    }
   ],
   "source": [
    "for i in G.edges(data=True):\n",
    "    print(i)"
   ]
  },
  {
   "cell_type": "markdown",
   "metadata": {},
   "source": [
    "## ノードやエッジの作成と同時に属性も作成（上と同様）"
   ]
  },
  {
   "cell_type": "code",
   "execution_count": 6,
   "metadata": {},
   "outputs": [],
   "source": [
    "G = nx.Graph() # 空の無向グラフ生成\n",
    "\n",
    "# 重み付きグラフの生成\n",
    "nodes = [('A', {'性別': 'M', '年齢': 18}), ('B', {'性別': 'F', '年齢': 22}), ('C', {'性別': 'M', '年齢': 19}), ('D', {'性別': 'F', '年齢': 20}), ('E', {'性別': 'F', '年齢': 22})]\n",
    "edges = [('A', 'B', {'weight': 0.8}), ('A', 'E', {'weight': 0.1}), ('B', 'D', {'weight': 1.0}), ('B', 'E', {'weight': 0.4}), ('C', 'E', {'weight': 0.3})]\n",
    "\n",
    "G.add_nodes_from(nodes)\n",
    "G.add_edges_from(edges)"
   ]
  },
  {
   "cell_type": "code",
   "execution_count": 7,
   "metadata": {},
   "outputs": [
    {
     "name": "stdout",
     "output_type": "stream",
     "text": [
      "('A', {'性別': 'M', '年齢': 18})\n",
      "('B', {'性別': 'F', '年齢': 22})\n",
      "('C', {'性別': 'M', '年齢': 19})\n",
      "('D', {'性別': 'F', '年齢': 20})\n",
      "('E', {'性別': 'F', '年齢': 22})\n",
      "('A', 'B', {'weight': 0.8})\n",
      "('A', 'E', {'weight': 0.1})\n",
      "('B', 'D', {'weight': 1.0})\n",
      "('B', 'E', {'weight': 0.4})\n",
      "('C', 'E', {'weight': 0.3})\n"
     ]
    }
   ],
   "source": [
    "for i in G.nodes(data=True):\n",
    "    print(i)\n",
    "    \n",
    "for i in G.edges(data=True):\n",
    "    print(i)"
   ]
  },
  {
   "cell_type": "markdown",
   "metadata": {},
   "source": [
    "## 可視化のためのノードの属性抽出"
   ]
  },
  {
   "cell_type": "code",
   "execution_count": 8,
   "metadata": {},
   "outputs": [
    {
     "name": "stdout",
     "output_type": "stream",
     "text": [
      "A\n",
      "{'性別': 'M', '年齢': 18}\n",
      "B\n",
      "{'性別': 'F', '年齢': 22}\n",
      "C\n",
      "{'性別': 'M', '年齢': 19}\n",
      "D\n",
      "{'性別': 'F', '年齢': 20}\n",
      "E\n",
      "{'性別': 'F', '年齢': 22}\n"
     ]
    }
   ],
   "source": [
    "for n, d in G.nodes(data=True):\n",
    "    print(n)\n",
    "    print(d)"
   ]
  },
  {
   "cell_type": "code",
   "execution_count": 9,
   "metadata": {},
   "outputs": [
    {
     "name": "stdout",
     "output_type": "stream",
     "text": [
      "{'A': ('M', 18), 'B': ('F', 22), 'C': ('M', 19), 'D': ('F', 20), 'E': ('F', 22)}\n"
     ]
    }
   ],
   "source": [
    "node_labels = {n:(d['性別'], d['年齢']) for n, d in G.nodes(data=True)}\n",
    "print(node_labels)"
   ]
  },
  {
   "cell_type": "markdown",
   "metadata": {},
   "source": [
    "## ノードの属性の可視化"
   ]
  },
  {
   "cell_type": "code",
   "execution_count": 10,
   "metadata": {},
   "outputs": [
    {
     "data": {
      "image/png": "[encoded data removed]",
      "text/plain": [
       "<Figure size 432x288 with 1 Axes>"
      ]
     },
     "metadata": {},
     "output_type": "display_data"
    }
   ],
   "source": [
    "pos=nx.circular_layout(G)\n",
    "\n",
    "pos_node_attributes={}\n",
    "for node, (x,y) in pos.items():\n",
    "    pos_node_attributes[node]=(x+0.25, y)\n",
    "\n",
    "nx.draw(G, pos=pos, with_labels=True, node_color='red', node_size=500, font_size=20)\n",
    "nx.draw_networkx_labels(G, pos=pos_node_attributes, labels=node_labels)\n",
    "plt.margins(0.25)\n",
    "plt.show()"
   ]
  },
  {
   "cell_type": "markdown",
   "metadata": {},
   "source": [
    "## 可視化のためのエッジの属性抽出"
   ]
  },
  {
   "cell_type": "code",
   "execution_count": 11,
   "metadata": {},
   "outputs": [
    {
     "name": "stdout",
     "output_type": "stream",
     "text": [
      "A B\n",
      "{'weight': 0.8}\n",
      "A E\n",
      "{'weight': 0.1}\n",
      "B D\n",
      "{'weight': 1.0}\n",
      "B E\n",
      "{'weight': 0.4}\n",
      "C E\n",
      "{'weight': 0.3}\n"
     ]
    }
   ],
   "source": [
    "for u,v,d in G.edges(data=True):\n",
    "    print(u, v)\n",
    "    print(d)"
   ]
  },
  {
   "cell_type": "code",
   "execution_count": 12,
   "metadata": {},
   "outputs": [
    {
     "name": "stdout",
     "output_type": "stream",
     "text": [
      "{('A', 'B'): 0.8, ('A', 'E'): 0.1, ('B', 'D'): 1.0, ('B', 'E'): 0.4, ('C', 'E'): 0.3}\n"
     ]
    }
   ],
   "source": [
    "edge_labels = {(u, v):d['weight'] for u,v,d in G.edges(data=True)}\n",
    "print(edge_labels)"
   ]
  },
  {
   "cell_type": "markdown",
   "metadata": {},
   "source": [
    "## ノードとエッジの属性の可視化"
   ]
  },
  {
   "cell_type": "code",
   "execution_count": 13,
   "metadata": {},
   "outputs": [
    {
     "data": {
      "image/png": "[encoded data removed]",
      "text/plain": [
       "<Figure size 432x288 with 1 Axes>"
      ]
     },
     "metadata": {},
     "output_type": "display_data"
    }
   ],
   "source": [
    "nx.draw(G, pos=pos, with_labels=True, node_color='red', node_size=500, font_size=20)\n",
    "nx.draw_networkx_labels(G, pos=pos_node_attributes, labels=node_labels)\n",
    "nx.draw_networkx_edge_labels(G, pos=pos, edge_labels=edge_labels, label_pos=0.5)\n",
    "plt.margins(0.25)\n",
    "plt.show()"
   ]
  }
 ],
 "metadata": {
  "kernelspec": {
   "display_name": "Python 3",
   "language": "python",
   "name": "python3"
  },
  "language_info": {
   "codemirror_mode": {
    "name": "ipython",
    "version": 3
   },
   "file_extension": ".py",
   "mimetype": "text/x-python",
   "name": "python",
   "nbconvert_exporter": "python",
   "pygments_lexer": "ipython3",
   "version": "3.8.5"
  }
 },
 "nbformat": 4,
 "nbformat_minor": 4
}
