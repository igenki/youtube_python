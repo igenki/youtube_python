{
 "cells": [
  {
   "cell_type": "markdown",
   "metadata": {},
   "source": [
    "# NetworkXによる最大流最小カット"
   ]
  },
  {
   "cell_type": "markdown",
   "metadata": {},
   "source": [
    "対応する動画：[NetworkXによるネットワーク分析　⑭最大流最小カット【研究で使うPython #46】](https://youtu.be/K81UP8BNZvY)\n",
    "\n",
    "動画のプレイリスト：[研究で使うPython](https://www.youtube.com/playlist?list=PLw5AEs-T7pLHxLaNvGD9tnhrDxAgH-QIw)"
   ]
  },
  {
   "cell_type": "markdown",
   "metadata": {},
   "source": [
    "## 必要モジュールのインポート"
   ]
  },
  {
   "cell_type": "code",
   "execution_count": 1,
   "metadata": {},
   "outputs": [],
   "source": [
    "import networkx as nx\n",
    "import matplotlib.pyplot as plt"
   ]
  },
  {
   "cell_type": "markdown",
   "metadata": {},
   "source": [
    "## ネットワークの生成"
   ]
  },
  {
   "cell_type": "code",
   "execution_count": 2,
   "metadata": {},
   "outputs": [
    {
     "data": {
      "image/png": "[encoded data removed]",
      "text/plain": [
       "<Figure size 432x288 with 1 Axes>"
      ]
     },
     "metadata": {},
     "output_type": "display_data"
    }
   ],
   "source": [
    "G = nx.DiGraph() # 空の有向グラフ生成\n",
    "\n",
    "G.add_edge('s', 'a', capacity=8)\n",
    "G.add_edge('s', 'c', capacity=6)\n",
    "G.add_edge('a', 'b', capacity=2)\n",
    "G.add_edge('a', 'd', capacity=2)\n",
    "G.add_edge('b', 't', capacity=3)\n",
    "G.add_edge('c', 'b', capacity=3)\n",
    "G.add_edge('c', 'e', capacity=3)\n",
    "G.add_edge('d', 't', capacity=3)\n",
    "G.add_edge('e', 't', capacity=4)\n",
    "\n",
    "# ばねモデルでノード配置\n",
    "pos = nx.spring_layout(G)\n",
    "\n",
    "# 描画\n",
    "nx.draw_networkx_edges(G, pos) # エッジ\n",
    "nx.draw_networkx_nodes(G, pos) # ノード\n",
    "nx.draw_networkx_labels(G, pos) # ラベル\n",
    "nx.draw_networkx_edge_labels(G, pos, edge_labels={(u, v):d['capacity'] for u, v, d in G.edges(data=True)}) # 容量\n",
    "plt.axis('off')\n",
    "plt.show()"
   ]
  },
  {
   "cell_type": "markdown",
   "metadata": {},
   "source": [
    "## 最大流を求める"
   ]
  },
  {
   "cell_type": "code",
   "execution_count": 3,
   "metadata": {},
   "outputs": [
    {
     "name": "stdout",
     "output_type": "stream",
     "text": [
      "Maximum flow value from s to t: 8\n",
      "s-a: 4\n",
      "s-c: 4\n",
      "a-b: 2\n",
      "a-d: 2\n",
      "b-t: 3\n",
      "c-b: 1\n",
      "c-e: 3\n",
      "d-t: 2\n",
      "e-t: 3\n"
     ]
    }
   ],
   "source": [
    "flow_value, flow_dict = nx.maximum_flow(G, 's', 't')\n",
    "print('Maximum flow value from s to t:', flow_value)\n",
    "print('s-a:', flow_dict['s']['a'])\n",
    "print('s-c:', flow_dict['s']['c'])\n",
    "print('a-b:', flow_dict['a']['b'])\n",
    "print('a-d:', flow_dict['a']['d'])\n",
    "print('b-t:', flow_dict['b']['t'])\n",
    "print('c-b:', flow_dict['c']['b'])\n",
    "print('c-e:', flow_dict['c']['e'])\n",
    "print('d-t:', flow_dict['d']['t'])\n",
    "print('e-t:', flow_dict['e']['t'])"
   ]
  },
  {
   "cell_type": "markdown",
   "metadata": {},
   "source": [
    "## 最小カットを求める"
   ]
  },
  {
   "cell_type": "code",
   "execution_count": 4,
   "metadata": {},
   "outputs": [
    {
     "name": "stdout",
     "output_type": "stream",
     "text": [
      "minimum cut value between s and t: 8\n",
      "reachable nodes from s: {'b', 'a', 'c', 's'}\n",
      "unreachable nodes from s: {'t', 'd', 'e'}\n"
     ]
    }
   ],
   "source": [
    "cut_value, partition = nx.minimum_cut(G, 's', 't')\n",
    "reachable, non_reachable = partition\n",
    "print('minimum cut value between s and t:', cut_value)\n",
    "print('reachable nodes from s:', reachable)\n",
    "print('unreachable nodes from s:', non_reachable)"
   ]
  },
  {
   "cell_type": "code",
   "execution_count": null,
   "metadata": {},
   "outputs": [],
   "source": []
  }
 ],
 "metadata": {
  "kernelspec": {
   "display_name": "Python 3",
   "language": "python",
   "name": "python3"
  },
  "language_info": {
   "codemirror_mode": {
    "name": "ipython",
    "version": 3
   },
   "file_extension": ".py",
   "mimetype": "text/x-python",
   "name": "python",
   "nbconvert_exporter": "python",
   "pygments_lexer": "ipython3",
   "version": "3.7.6"
  }
 },
 "nbformat": 4,
 "nbformat_minor": 4
}
