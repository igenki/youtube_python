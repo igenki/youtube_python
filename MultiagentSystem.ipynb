{
 "cells": [
  {
   "cell_type": "markdown",
   "metadata": {},
   "source": [
    "# クラスとオブジェクト"
   ]
  },
  {
   "cell_type": "markdown",
   "metadata": {},
   "source": [
    "対応する動画：[【研究で使うPython】#4 オブジェクト指向のクラスとオブジェクトをエージェントベースモデルを例に学ぶ！](https://youtu.be/Bp4BgFEvzss)\n",
    "\n",
    "動画のプレイリスト：[研究で使うPython](https://www.youtube.com/playlist?list=PLw5AEs-T7pLHxLaNvGD9tnhrDxAgH-QIw)"
   ]
  },
  {
   "cell_type": "code",
   "execution_count": 5,
   "metadata": {},
   "outputs": [
    {
     "name": "stdout",
     "output_type": "stream",
     "text": [
      "太郎 くんの身長は 170 cm，体重は 60 kgです．\n"
     ]
    }
   ],
   "source": [
    "# Agentクラス\n",
    "class Agent:\n",
    "    def __init__(self, name, height, weight):\n",
    "        self.name = name\n",
    "        self.height = height\n",
    "        self.weight = weight\n",
    "\n",
    "    def printInfo(self):\n",
    "        print(self.name, 'くんの身長は', self.height, 'cm，体重は', self.weight, 'kgです．')\n",
    "        \n",
    "agent = Agent('太郎', 170, 60)\n",
    "agent.printInfo()"
   ]
  },
  {
   "cell_type": "markdown",
   "metadata": {},
   "source": [
    "## エージェント1体が5ステップ動く"
   ]
  },
  {
   "cell_type": "code",
   "execution_count": 3,
   "metadata": {},
   "outputs": [
    {
     "name": "stdout",
     "output_type": "stream",
     "text": [
      "agent0.x= 3.6281583820333205 agent0.y= 9.587087731198492\n",
      "agent0.x= 3.1198264945364707 agent0.y= 9.355509073068848\n",
      "agent0.x= 2.289036382293569 agent0.y= 10.088117663061702\n",
      "agent0.x= 2.11040085631371 agent0.y= 10.238863080781295\n",
      "agent0.x= 2.4949234208987994 agent0.y= 10.73818931406492\n",
      "agent0.x= 3.1901465612322175 agent0.y= 10.712849512074607\n"
     ]
    }
   ],
   "source": [
    "import numpy as np\n",
    "\n",
    "# ステップ数\n",
    "n = 5\n",
    "\n",
    "colors  = ['red', 'green', 'blue'] \n",
    "\n",
    "# Agentクラス\n",
    "class Agent:\n",
    "    def __init__(self):\n",
    "        self.x = np.random.random()*10\n",
    "        self.y = np.random.random()*10\n",
    "        self.col = np.random.choice(colors)\n",
    "        \n",
    "    def move(self):\n",
    "        self.x += (np.random.random() - 0.5) * 2\n",
    "        self.y += (np.random.random() - 0.5) * 2\n",
    "\n",
    "# エージェントを1匹作成\n",
    "agent0 = Agent()\n",
    "\n",
    "# 初期位置\n",
    "print('agent0.x=',agent0.x, 'agent0.y=',agent0.y)\n",
    "\n",
    "for i in range(n):\n",
    "    agent0.move()\n",
    "    print('agent0.x=',agent0.x, 'agent0.y=',agent0.y)"
   ]
  },
  {
   "cell_type": "markdown",
   "metadata": {},
   "source": [
    "## エージェントN体がnステップ動く"
   ]
  },
  {
   "cell_type": "code",
   "execution_count": 2,
   "metadata": {},
   "outputs": [
    {
     "name": "stdout",
     "output_type": "stream",
     "text": [
      "初期位置：agent 0 .x= 2.329459655606927 agent 0 .y= 0.6440505323336243\n",
      "初期位置：agent 1 .x= 2.888485137904847 agent 1 .y= 4.586625635655087\n",
      "初期位置：agent 2 .x= 2.886913652579236 agent 2 .y= 8.195152570045142\n",
      "初期位置：agent 3 .x= 9.098969201889904 agent 3 .y= 5.303979943931329\n",
      "初期位置：agent 4 .x= 9.503797486007327 agent 4 .y= 1.7283344614605045\n",
      "初期位置：agent 5 .x= 6.444443306566823 agent 5 .y= 1.170979691232813\n",
      "初期位置：agent 6 .x= 9.697659017929775 agent 6 .y= 2.5060286985536218\n",
      "初期位置：agent 7 .x= 3.810894763545395 agent 7 .y= 9.526727654394582\n",
      "初期位置：agent 8 .x= 1.6990135525299865 agent 8 .y= 0.4834956010221103\n",
      "初期位置：agent 9 .x= 8.957581220160739 agent 9 .y= 6.071769735410094\n",
      "1 ステップ目：agent 0 .x= 1.7067213261117298 agent 0 .y= -0.15508141022345012\n",
      "1 ステップ目：agent 1 .x= 3.789552241571546 agent 1 .y= 4.39336469458896\n",
      "1 ステップ目：agent 2 .x= 3.05859916782826 agent 2 .y= 8.19619578463557\n",
      "1 ステップ目：agent 3 .x= 9.405686737102503 agent 3 .y= 5.827705673412553\n",
      "1 ステップ目：agent 4 .x= 10.242396800549438 agent 4 .y= 1.1819753682295504\n",
      "1 ステップ目：agent 5 .x= 6.891742329429399 agent 5 .y= 1.202690503173779\n",
      "1 ステップ目：agent 6 .x= 10.284041167630887 agent 6 .y= 1.9162900535356244\n",
      "1 ステップ目：agent 7 .x= 4.211976532068777 agent 7 .y= 10.140070715356813\n",
      "1 ステップ目：agent 8 .x= 1.4720873922564373 agent 8 .y= 0.827944010440546\n",
      "1 ステップ目：agent 9 .x= 9.443030347717375 agent 9 .y= 5.687175944632122\n",
      "2 ステップ目：agent 0 .x= 2.425347696616 agent 0 .y= -0.8412159539048607\n",
      "2 ステップ目：agent 1 .x= 4.237246609851239 agent 1 .y= 5.374299607005744\n",
      "2 ステップ目：agent 2 .x= 3.801479242387814 agent 2 .y= 7.443797680393059\n",
      "2 ステップ目：agent 3 .x= 8.667437155455271 agent 3 .y= 6.053032735211529\n",
      "2 ステップ目：agent 4 .x= 10.584347735823892 agent 4 .y= 0.9950582783178807\n",
      "2 ステップ目：agent 5 .x= 7.126576309657507 agent 5 .y= 2.0801256519287143\n",
      "2 ステップ目：agent 6 .x= 10.029835584770893 agent 6 .y= 1.786080211050691\n",
      "2 ステップ目：agent 7 .x= 3.7044684576516698 agent 7 .y= 9.406361402726164\n",
      "2 ステップ目：agent 8 .x= 1.4767685671397826 agent 8 .y= 0.6266339629626148\n",
      "2 ステップ目：agent 9 .x= 8.824634957975178 agent 9 .y= 5.252679123099335\n",
      "3 ステップ目：agent 0 .x= 1.6384666126014107 agent 0 .y= -1.6956856826414917\n",
      "3 ステップ目：agent 1 .x= 3.5194649247791876 agent 1 .y= 5.2051838616318005\n",
      "3 ステップ目：agent 2 .x= 4.74981484695806 agent 2 .y= 8.152857541573809\n",
      "3 ステップ目：agent 3 .x= 9.334561157130906 agent 3 .y= 6.082374203474755\n",
      "3 ステップ目：agent 4 .x= 10.278160506689776 agent 4 .y= 0.2650714719839262\n",
      "3 ステップ目：agent 5 .x= 6.833850929897 agent 5 .y= 1.4066976191101725\n",
      "3 ステップ目：agent 6 .x= 9.95410499243319 agent 6 .y= 2.0502735805278034\n",
      "3 ステップ目：agent 7 .x= 3.099922500897284 agent 7 .y= 10.2281604050448\n",
      "3 ステップ目：agent 8 .x= 1.9761724522034259 agent 8 .y= 0.2130486732499317\n",
      "3 ステップ目：agent 9 .x= 9.507165167197785 agent 9 .y= 5.818081552206475\n"
     ]
    }
   ],
   "source": [
    "import numpy as np\n",
    "\n",
    "# エージェント数\n",
    "N = 10\n",
    "\n",
    "# ステップ数\n",
    "n = 3\n",
    "\n",
    "colors  = ['red', 'green', 'blue'] \n",
    "\n",
    "# Agentクラス\n",
    "class Agent:\n",
    "    def __init__(self):\n",
    "        self.x = np.random.random()*10\n",
    "        self.y = np.random.random()*10\n",
    "        self.col = np.random.choice(colors)\n",
    "        \n",
    "    def move(self):\n",
    "        self.x += (np.random.random() - 0.5) * 2\n",
    "        self.y += (np.random.random() - 0.5) * 2\n",
    "\n",
    "# エージェントをN匹作成\n",
    "agentList = [Agent() for i in range(N)]\n",
    "\n",
    "# 別の書き方\n",
    "#agentList = []\n",
    "#for i in range(N):\n",
    "#    agentList.append(Agent())\n",
    "\n",
    "# 初期位置\n",
    "for i in range(N):\n",
    "    print('初期位置：agent', i, '.x=', agentList[i].x, 'agent', i, '.y=', agentList[i].y)\n",
    "\n",
    "for i in range(n):\n",
    "    for j in range(N):\n",
    "        agentList[j].move()\n",
    "        print(i+1, 'ステップ目：agent', j, '.x=', agentList[j].x, 'agent', j, '.y=', agentList[j].y)"
   ]
  },
  {
   "cell_type": "markdown",
   "metadata": {},
   "source": [
    "## 可視化"
   ]
  },
  {
   "cell_type": "code",
   "execution_count": 3,
   "metadata": {},
   "outputs": [
    {
     "data": {
      "image/png": "[encoded data removed]",
      "text/plain": [
       "<Figure size 360x360 with 1 Axes>"
      ]
     },
     "metadata": {
      "needs_background": "light"
     },
     "output_type": "display_data"
    }
   ],
   "source": [
    "%matplotlib inline\n",
    "\n",
    "import numpy as np\n",
    "import matplotlib.pyplot as plt\n",
    "\n",
    "# エージェント数\n",
    "N = 10\n",
    "# ステップ数\n",
    "n = 20\n",
    "\n",
    "colors  = ['red', 'green', 'blue', 'orange', 'purple', 'pink', 'yellow'] \n",
    "\n",
    "fig=plt.figure(figsize=(5, 5))\n",
    "\n",
    "# Agentクラス\n",
    "class Agent:\n",
    "    def __init__(self):\n",
    "        self.x = np.random.random()*10\n",
    "        self.y = np.random.random()*10\n",
    "        self.xlist = [self.x]\n",
    "        self.ylist = [self.y]\n",
    "        self.col = np.random.choice(colors)\n",
    "        \n",
    "    def move(self):\n",
    "        self.x += (np.random.random() - 0.5) * 2\n",
    "        self.y += (np.random.random() - 0.5) * 2\n",
    "        self.xlist.append(self.x)\n",
    "        self.ylist.append(self.y)\n",
    "        \n",
    "agentList = [Agent() for i in range(N)]\n",
    "\n",
    "for i in range(n):\n",
    "    for agent in agentList:\n",
    "        agent.move()\n",
    "\n",
    "for i in range(N):\n",
    "    plt.plot(agentList[i].xlist, agentList[i].ylist, c=agentList[i].col, marker='o')\n",
    "plt.show()"
   ]
  },
  {
   "cell_type": "code",
   "execution_count": null,
   "metadata": {},
   "outputs": [],
   "source": []
  }
 ],
 "metadata": {
  "kernelspec": {
   "display_name": "Python 3",
   "language": "python",
   "name": "python3"
  },
  "language_info": {
   "codemirror_mode": {
    "name": "ipython",
    "version": 3
   },
   "file_extension": ".py",
   "mimetype": "text/x-python",
   "name": "python",
   "nbconvert_exporter": "python",
   "pygments_lexer": "ipython3",
   "version": "3.7.6"
  }
 },
 "nbformat": 4,
 "nbformat_minor": 4
}
