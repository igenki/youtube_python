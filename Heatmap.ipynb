{
 "cells": [
  {
   "cell_type": "markdown",
   "metadata": {},
   "source": [
    "# 2次元ヒートマップ"
   ]
  },
  {
   "cell_type": "markdown",
   "metadata": {},
   "source": [
    "対応する動画：[【研究で使うPython】#5 シミュレーションやデータ解析結果の可視化に用いるグラフとアニメーションを学ぶ！](https://www.youtube.com/watch?v=LpglzDcshWI&list=PLw5AEs-T7pLHxLaNvGD9tnhrDxAgH-QIw&index=2)"
   ]
  },
  {
   "cell_type": "code",
   "execution_count": 3,
   "metadata": {},
   "outputs": [
    {
     "name": "stdout",
     "output_type": "stream",
     "text": [
      "[[0.36453731 0.02972088 0.13812225 0.74594846 0.43670742 0.49960246\n",
      "  0.17707464 0.28533366 0.05510917 0.86218513]\n",
      " [0.5195973  0.08104887 0.72116418 0.95507796 0.61664102 0.37959493\n",
      "  0.27338273 0.21235359 0.12113531 0.94748636]\n",
      " [0.74849    0.8518888  0.43232231 0.86134183 0.56859941 0.67862537\n",
      "  0.21960506 0.31273763 0.17293013 0.40054678]\n",
      " [0.48155427 0.51331321 0.85873396 0.19058455 0.17315237 0.41916498\n",
      "  0.01054013 0.5547759  0.77786699 0.01730757]\n",
      " [0.29331524 0.89630605 0.47764423 0.52138595 0.97487981 0.35006942\n",
      "  0.9472274  0.17298785 0.15289068 0.21821068]\n",
      " [0.8598589  0.20770164 0.49764758 0.72424704 0.4431515  0.35411254\n",
      "  0.21727263 0.69582832 0.45908423 0.75637967]\n",
      " [0.0101693  0.246692   0.89824852 0.46710219 0.23968071 0.87293517\n",
      "  0.42934745 0.8615705  0.30272485 0.75536031]\n",
      " [0.1783512  0.28236303 0.90101873 0.2219882  0.8922805  0.96139479\n",
      "  0.9617255  0.93957497 0.07351275 0.98127118]\n",
      " [0.56414867 0.00845548 0.56229819 0.87332883 0.05463194 0.52763679\n",
      "  0.56806538 0.62705206 0.9590001  0.21508416]\n",
      " [0.1436915  0.86227666 0.56504858 0.86016228 0.84006563 0.33440341\n",
      "  0.13428758 0.20183399 0.45044782 0.13066955]]\n"
     ]
    },
    {
     "data": {
      "image/png": "[encoded data removed]",
      "text/plain": [
       "<Figure size 432x288 with 2 Axes>"
      ]
     },
     "metadata": {
      "needs_background": "light"
     },
     "output_type": "display_data"
    }
   ],
   "source": [
    "%matplotlib inline\n",
    "\n",
    "import numpy as np\n",
    "import matplotlib.pyplot as plt\n",
    "\n",
    "# 10x10の乱数データ作成\n",
    "mat = np.random.rand(10,10)\n",
    "\n",
    "#print(mat)\n",
    "\n",
    "# ヒートマップ表示\n",
    "plt.imshow(mat)\n",
    "plt.colorbar()\n",
    "plt.show()"
   ]
  },
  {
   "cell_type": "code",
   "execution_count": null,
   "metadata": {},
   "outputs": [],
   "source": []
  }
 ],
 "metadata": {
  "kernelspec": {
   "display_name": "Python 3",
   "language": "python",
   "name": "python3"
  },
  "language_info": {
   "codemirror_mode": {
    "name": "ipython",
    "version": 3
   },
   "file_extension": ".py",
   "mimetype": "text/x-python",
   "name": "python",
   "nbconvert_exporter": "python",
   "pygments_lexer": "ipython3",
   "version": "3.7.6"
  }
 },
 "nbformat": 4,
 "nbformat_minor": 4
}
