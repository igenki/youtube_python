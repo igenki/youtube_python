{
 "cells": [
  {
   "cell_type": "markdown",
   "metadata": {},
   "source": [
    "# 繰り返し囚人のジレンマのシミュレーション"
   ]
  },
  {
   "cell_type": "markdown",
   "metadata": {},
   "source": [
    "対応する動画：[【研究で使うPython】#6 オブジェクト指向で作る繰り返し囚人のジレンマゲームのシミュレーション](https://youtu.be/dRkp-pzTnJ4)\n",
    "\n",
    "動画のプレイリスト：[研究で使うPython](https://www.youtube.com/playlist?list=PLw5AEs-T7pLHxLaNvGD9tnhrDxAgH-QIw)"
   ]
  },
  {
   "cell_type": "markdown",
   "metadata": {},
   "source": [
    "## 手続き型"
   ]
  },
  {
   "cell_type": "code",
   "execution_count": 5,
   "metadata": {},
   "outputs": [
    {
     "data": {
      "image/png": "[encoded data removed]",
      "text/plain": [
       "<Figure size 432x288 with 1 Axes>"
      ]
     },
     "metadata": {
      "needs_background": "light"
     },
     "output_type": "display_data"
    }
   ],
   "source": [
    "# Jupyterで画像表示\n",
    "%matplotlib inline\n",
    "\n",
    "import numpy as np\n",
    "import matplotlib.pyplot as plt\n",
    "\n",
    "# グラフに渡すデータを空のリストで作成\n",
    "x_list = []\n",
    "y_list = []\n",
    "t_list = []\n",
    "\n",
    "# 囚人のジレンマゲームの利得表\n",
    "payoff = {'T':5, 'R':3, 'P':1, 'S':0}\n",
    "\n",
    "# 記憶1戦略（前回の自分と相手の行動で今回の自分の行動を決定）\n",
    "# プレイヤーXの戦略\n",
    "#p = {'CC':1, 'CD':1, 'DC':1, 'DD':1, '0':1}            # ALLC戦略\n",
    "#p = {'CC':1, 'CD':0, 'DC':1, 'DD':0, '0':1}            # TFT戦略（前回の相手の戦略を真似する）\n",
    "p = {'CC':1/2, 'CD':1/2, 'DC':1/2, 'DD':1/2, '0':1/2} # ランダム戦略\n",
    "\n",
    "# プレイヤーYの戦略\n",
    "q = {'CC':1, 'CD':1, 'DC':1, 'DD':1, '0':1} # ALLC戦略\n",
    "#q = {'CC':0, 'CD':0, 'DC':0, 'DD':0, '0':0} # ALLD戦略\n",
    "\n",
    "# プレイヤーの得点\n",
    "point_x = 0\n",
    "point_y = 0\n",
    "\n",
    "# ゲームの状態\n",
    "state = '0'  \n",
    "\n",
    "# 繰り返しゲーム\n",
    "for i in range(1000):\n",
    "    action_x = 'C' if np.random.random() < p[state] else 'D'\n",
    "    action_y = 'C' if np.random.random() < q[state] else 'D'\n",
    "    \n",
    "    # ゲームの結果に応じて利得を加算\n",
    "    if action_x == 'C' and action_y == 'C':\n",
    "        point_x += payoff['R']; point_y += payoff['R']\n",
    "    elif action_x == 'C' and action_y == 'D':\n",
    "        point_x += payoff['S']; point_y += payoff['T']\n",
    "    elif action_x == 'D' and action_y == 'C':\n",
    "        point_x += payoff['T']; point_y += payoff['S']\n",
    "    else:\n",
    "        point_x += payoff['P']; point_y += payoff['P']\n",
    "    # ゲームの結果を代入\n",
    "    state = action_x + action_y\n",
    "    \n",
    "    # 時間軸\n",
    "    t_list.append(i+1)\n",
    "    # 平均得点をリストに追加\n",
    "    x_list.append(point_x / (i+1))\n",
    "    y_list.append(point_y / (i+1))\n",
    "\n",
    "# 平均得点の変化のグラフ\n",
    "plt.plot(t_list, x_list, label='Player X')\n",
    "plt.plot(t_list, y_list, label='Player Y')\n",
    "plt.legend()\n",
    "plt.xlabel('t')\n",
    "plt.show()"
   ]
  },
  {
   "cell_type": "markdown",
   "metadata": {},
   "source": [
    "## オブジェクト指向"
   ]
  },
  {
   "cell_type": "code",
   "execution_count": 3,
   "metadata": {},
   "outputs": [
    {
     "data": {
      "image/png": "[encoded data removed]",
      "text/plain": [
       "<Figure size 432x288 with 1 Axes>"
      ]
     },
     "metadata": {
      "needs_background": "light"
     },
     "output_type": "display_data"
    }
   ],
   "source": [
    "# Jupyterで画像表示\n",
    "%matplotlib inline\n",
    "\n",
    "import numpy as np\n",
    "import matplotlib.pyplot as plt\n",
    "\n",
    "# グラフに渡すデータを空のリストで作成\n",
    "x_list = []\n",
    "y_list = []\n",
    "t_list = []\n",
    "\n",
    "# 利得表\n",
    "payoff = {'T':5, 'R':3, 'P':1, 'S':0}\n",
    "\n",
    "# プレイヤー（エージェント）の定義\n",
    "class Agent:\n",
    "    def __init__(self, strategy):\n",
    "        self.strategy = strategy # 戦略\n",
    "        self.action = None      # 行動\n",
    "        self.point = 0          # 得点\n",
    "        self.state = '0'        # 状態\n",
    "        \n",
    "    def choose_action(self): # 行動選択\n",
    "        self.action = 'C' if np.random.random() < self.strategy[self.state] else 'D'\n",
    "    \n",
    "    def update_state(self, opponent_action):\n",
    "        self.state = self.action + opponent_action\n",
    "\n",
    "# プレイヤーXとYの生成，戦略の決定\n",
    "agent_x = Agent({'CC':1/2, 'CD':1/2, 'DC':1/2, 'DD':1/2, '0':1/2}) # ランダム戦略\n",
    "agent_y = Agent({'CC':0, 'CD':0, 'DC':0, 'DD':0, '0':0})           # ALLD戦略\n",
    "\n",
    "# 繰り返しゲーム\n",
    "for i in range(1000):\n",
    "    agent_x.choose_action()\n",
    "    agent_y.choose_action()\n",
    "    \n",
    "    # ゲームの結果に応じて利得を加算\n",
    "    if agent_x.action == 'C' and agent_y.action == 'C':\n",
    "        agent_x.action.point += payoff['R']; agent_y.point += payoff['R']\n",
    "    elif agent_x.action == 'C' and agent_y.action == 'D':\n",
    "        agent_x.point += payoff['S']; agent_y.point += payoff['T']\n",
    "    elif agent_x.action == 'D' and agent_y.action == 'C':\n",
    "        agent_x.point += payoff['T']; agent_y.point += payoff['S']\n",
    "    else:\n",
    "        agent_x.point += payoff['P']; agent_y.point += payoff['P']\n",
    "    # ゲームの結果を代入\n",
    "    agent_x.update_state(agent_y.action)\n",
    "    agent_y.update_state(agent_x.action)\n",
    "    \n",
    "    x_list.append(agent_x.point / (i+1))\n",
    "    y_list.append(agent_y.point / (i+1))\n",
    "    t_list.append(i+1)\n",
    "\n",
    "# 平均得点の変化のグラフ\n",
    "plt.plot(t_list, x_list, label='Player X')\n",
    "plt.plot(t_list, y_list, label='Player Y')\n",
    "plt.legend()\n",
    "plt.xlabel('t')\n",
    "plt.show()"
   ]
  }
 ],
 "metadata": {
  "kernelspec": {
   "display_name": "Python 3",
   "language": "python",
   "name": "python3"
  },
  "language_info": {
   "codemirror_mode": {
    "name": "ipython",
    "version": 3
   },
   "file_extension": ".py",
   "mimetype": "text/x-python",
   "name": "python",
   "nbconvert_exporter": "python",
   "pygments_lexer": "ipython3",
   "version": "3.7.6"
  }
 },
 "nbformat": 4,
 "nbformat_minor": 4
}
