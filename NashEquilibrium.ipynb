{
 "cells": [
  {
   "cell_type": "markdown",
   "metadata": {},
   "source": [
    "# ナッシュ均衡をnashpyで見つける"
   ]
  },
  {
   "cell_type": "markdown",
   "metadata": {},
   "source": [
    "対応する動画：[ゲーム理論・進化ゲーム②　ナッシュ均衡　実装編【研究で使うPython #45】](https://youtu.be/OWFsvbupgrY)\n",
    "\n",
    "動画のプレイリスト：[研究で使うPython](https://www.youtube.com/playlist?list=PLw5AEs-T7pLHxLaNvGD9tnhrDxAgH-QIw)"
   ]
  },
  {
   "cell_type": "markdown",
   "metadata": {},
   "source": [
    "## nashpyのインストール（初回のみ）"
   ]
  },
  {
   "cell_type": "code",
   "execution_count": 1,
   "metadata": {},
   "outputs": [
    {
     "name": "stdout",
     "output_type": "stream",
     "text": [
      "Requirement already satisfied: nashpy in c:\\users\\genki\\anaconda3\\lib\\site-packages (0.0.24)\n",
      "Requirement already satisfied: numpy>=1.15.4 in c:\\users\\genki\\anaconda3\\lib\\site-packages (from nashpy) (1.19.2)\n",
      "Requirement already satisfied: scipy>=0.19.0 in c:\\users\\genki\\anaconda3\\lib\\site-packages (from nashpy) (1.5.2)\n"
     ]
    }
   ],
   "source": [
    "!pip install nashpy"
   ]
  },
  {
   "cell_type": "markdown",
   "metadata": {},
   "source": [
    "## 必要モジュールのimport"
   ]
  },
  {
   "cell_type": "code",
   "execution_count": 2,
   "metadata": {},
   "outputs": [],
   "source": [
    "import nashpy as nash\n",
    "import numpy as np"
   ]
  },
  {
   "cell_type": "markdown",
   "metadata": {},
   "source": [
    "## ゲームの定義"
   ]
  },
  {
   "cell_type": "code",
   "execution_count": 3,
   "metadata": {},
   "outputs": [
    {
     "data": {
      "text/plain": [
       "Bi matrix game with payoff matrices:\n",
       "\n",
       "Row player:\n",
       "[[4 3]\n",
       " [5 2]]\n",
       "\n",
       "Column player:\n",
       "[[5 6]\n",
       " [4 3]]"
      ]
     },
     "execution_count": 3,
     "metadata": {},
     "output_type": "execute_result"
    }
   ],
   "source": [
    "A = np.array([[4,3],[5,2]]) # A is the row player\n",
    "B = np.array([[5,6],[4,3]]) # B is the column player\n",
    "game1 = nash.Game(A,B)\n",
    "game1"
   ]
  },
  {
   "cell_type": "markdown",
   "metadata": {},
   "source": [
    "## ナッシュ均衡を求める"
   ]
  },
  {
   "cell_type": "code",
   "execution_count": 4,
   "metadata": {},
   "outputs": [
    {
     "name": "stdout",
     "output_type": "stream",
     "text": [
      "(array([1., 0.]), array([0., 1.]))\n",
      "(array([0., 1.]), array([1., 0.]))\n",
      "(array([0.5, 0.5]), array([0.5, 0.5]))\n"
     ]
    }
   ],
   "source": [
    "equilibria = game1.support_enumeration()\n",
    "for eq in equilibria:\n",
    "    print(eq)"
   ]
  },
  {
   "cell_type": "markdown",
   "metadata": {},
   "source": [
    "## 囚人のジレンマゲームのナッシュ均衡を求める"
   ]
  },
  {
   "cell_type": "code",
   "execution_count": 5,
   "metadata": {},
   "outputs": [
    {
     "data": {
      "text/plain": [
       "Bi matrix game with payoff matrices:\n",
       "\n",
       "Row player:\n",
       "[[3 0]\n",
       " [5 1]]\n",
       "\n",
       "Column player:\n",
       "[[3 5]\n",
       " [0 1]]"
      ]
     },
     "execution_count": 5,
     "metadata": {},
     "output_type": "execute_result"
    }
   ],
   "source": [
    "A = np.array([[3,0],[5,1]]) # A is the row player\n",
    "B = np.array([[3,5],[0,1]]) # B is the column player\n",
    "prisoners_dilemma = nash.Game(A,B)\n",
    "prisoners_dilemma"
   ]
  },
  {
   "cell_type": "code",
   "execution_count": 6,
   "metadata": {},
   "outputs": [
    {
     "name": "stdout",
     "output_type": "stream",
     "text": [
      "(array([0., 1.]), array([0., 1.]))\n"
     ]
    }
   ],
   "source": [
    "equilibria = prisoners_dilemma.support_enumeration()\n",
    "for eq in equilibria:\n",
    "    print(eq)"
   ]
  }
 ],
 "metadata": {
  "kernelspec": {
   "display_name": "Python 3",
   "language": "python",
   "name": "python3"
  },
  "language_info": {
   "codemirror_mode": {
    "name": "ipython",
    "version": 3
   },
   "file_extension": ".py",
   "mimetype": "text/x-python",
   "name": "python",
   "nbconvert_exporter": "python",
   "pygments_lexer": "ipython3",
   "version": "3.7.6"
  }
 },
 "nbformat": 4,
 "nbformat_minor": 4
}
