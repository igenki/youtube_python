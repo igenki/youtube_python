{
 "cells": [
  {
   "cell_type": "markdown",
   "metadata": {},
   "source": [
    "# nature論文再現　ネットワーク頑健性"
   ]
  },
  {
   "cell_type": "markdown",
   "metadata": {},
   "source": [
    "対応する動画：[【研究で使うPython】#22 Nature論文再現！ネットワークの頑健性①](https://youtu.be/EExQ-z1ks2Q)\n",
    "\n",
    "動画のプレイリスト：[研究で使うPython](https://www.youtube.com/playlist?list=PLw5AEs-T7pLHxLaNvGD9tnhrDxAgH-QIw)"
   ]
  },
  {
   "cell_type": "markdown",
   "metadata": {},
   "source": [
    "## 直径の変化"
   ]
  },
  {
   "cell_type": "code",
   "execution_count": 1,
   "metadata": {},
   "outputs": [
    {
     "name": "stdout",
     "output_type": "stream",
     "text": [
      "E average degree 3.864\n",
      "SF average degree 3.984\n"
     ]
    },
    {
     "data": {
      "text/plain": [
       "<matplotlib.legend.Legend at 0x2b583bd3f70>"
      ]
     },
     "execution_count": 1,
     "metadata": {},
     "output_type": "execute_result"
    },
    {
     "data": {
      "image/png": "[encoded data removed]",
      "text/plain": [
       "<Figure size 432x288 with 1 Axes>"
      ]
     },
     "metadata": {
      "needs_background": "light"
     },
     "output_type": "display_data"
    }
   ],
   "source": [
    "%matplotlib inline\n",
    "import matplotlib.pyplot as plt\n",
    "import numpy as np\n",
    "import networkx as nx\n",
    "\n",
    "N = 500 # ノードの数\n",
    "k = 4 # 平均次数\n",
    "E = N*k/2 # エッジの数\n",
    "\n",
    "x = [[], [], [], []]\n",
    "y = [[], [], [], []]\n",
    "\n",
    "# attack：次数が一番大きいノードを削除\n",
    "def remove_node_by_attack(G):\n",
    "    mx_n = -1\n",
    "    mx_d = -1\n",
    "    \n",
    "    # 最大次数ノードが複数あった時のためシャッフル\n",
    "    ns = list(G.nodes())\n",
    "    np.random.shuffle(ns)\n",
    "    \n",
    "    for n in ns:\n",
    "        d = len(list(G.neighbors(n)))\n",
    "        if d > mx_d:\n",
    "            mx_n = n\n",
    "            mx_d = d\n",
    "            \n",
    "    G.remove_node(mx_n)\n",
    "\n",
    "# failure：次数に関係なくランダムに削除\n",
    "def remove_node_by_error(G):\n",
    "    G.remove_node(np.random.choice(G.nodes()))\n",
    "\n",
    "# 最大クラスタを返す\n",
    "def max_cluster(G):\n",
    "    largest_cc = max(nx.connected_components(G), key=len)\n",
    "    max_cluster = G.subgraph(largest_cc).copy()\n",
    "   \n",
    "    return max_cluster\n",
    "\n",
    "# 最大クラスターのノード数を取得\n",
    "def get_SMC(G):\n",
    "    mc = max_cluster(G)\n",
    "    return len(mc)\n",
    "\n",
    "G1=nx.erdos_renyi_graph(N,k/(N-1))# ER\n",
    "G2=nx.Graph.copy(G1)# ER\n",
    "G3=nx.barabasi_albert_graph(N,int(k/2))# SF\n",
    "G4=nx.Graph.copy(G3)# SF\n",
    "\n",
    "print('E average degree', nx.number_of_edges(G1)*2/N)\n",
    "print('SF average degree', nx.number_of_edges(G3)*2/N)\n",
    "           \n",
    "del_num=0\n",
    "while del_num/N<=0.05:\n",
    "    mc_failure = max_cluster(G1)\n",
    "    y[0].append(nx.diameter(mc_failure))\n",
    "    x[0].append(del_num/N)\n",
    "    remove_node_by_error(G1)\n",
    "    \n",
    "    mc_attack = max_cluster(G2)\n",
    "    y[1].append(nx.diameter(mc_attack))\n",
    "    x[1].append(del_num/N)\n",
    "    remove_node_by_attack(G2)\n",
    "\n",
    "    del_num+=1\n",
    "        \n",
    "\n",
    "del_num=0\n",
    "while del_num/N<=0.05:\n",
    "    mc_failure = max_cluster(G3)\n",
    "    y[2].append(nx.diameter(mc_failure))\n",
    "    x[2].append(del_num/N)\n",
    "    remove_node_by_error(G3)\n",
    "\n",
    "    mc_attack = max_cluster(G4)\n",
    "    y[3].append(nx.diameter(mc_attack))\n",
    "    x[3].append(del_num/N)\n",
    "    remove_node_by_attack(G4)\n",
    "\n",
    "    del_num+=1\n",
    "\n",
    "plt.figure()\n",
    "plt.xlabel('f') #x軸の名前\n",
    "plt.ylabel('d') #y軸の名前\n",
    "plt.ylim(0,15)\n",
    "plt.xlim(0,0.05)\n",
    "plt.plot(x[0],y[0],label=\"E failure\",marker='^',c='b')\n",
    "plt.plot(x[1],y[1],label=\"E attack\",marker='D',c='r')\n",
    "plt.plot(x[2],y[2],label=\"SF failure\",marker='s',c='b')\n",
    "plt.plot(x[3],y[3],label=\"SF attack\",marker='o',c='r')\n",
    "\n",
    "plt.grid()\n",
    "plt.legend()"
   ]
  }
 ],
 "metadata": {
  "kernelspec": {
   "display_name": "Python 3",
   "language": "python",
   "name": "python3"
  },
  "language_info": {
   "codemirror_mode": {
    "name": "ipython",
    "version": 3
   },
   "file_extension": ".py",
   "mimetype": "text/x-python",
   "name": "python",
   "nbconvert_exporter": "python",
   "pygments_lexer": "ipython3",
   "version": "3.7.6"
  }
 },
 "nbformat": 4,
 "nbformat_minor": 4
}
