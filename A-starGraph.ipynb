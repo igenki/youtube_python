{
 "cells": [
  {
   "cell_type": "markdown",
   "metadata": {},
   "source": [
    "# NetworkXによるA*アルゴリズム"
   ]
  },
  {
   "cell_type": "markdown",
   "metadata": {},
   "source": [
    "## 必要モジュールのインポート"
   ]
  },
  {
   "cell_type": "code",
   "execution_count": 1,
   "metadata": {},
   "outputs": [],
   "source": [
    "import networkx as nx"
   ]
  },
  {
   "cell_type": "markdown",
   "metadata": {},
   "source": [
    "## ネットワークの生成"
   ]
  },
  {
   "cell_type": "code",
   "execution_count": 2,
   "metadata": {},
   "outputs": [
    {
     "data": {
      "image/png": "[encoded data removed]",
      "text/plain": [
       "<Figure size 432x288 with 1 Axes>"
      ]
     },
     "metadata": {},
     "output_type": "display_data"
    }
   ],
   "source": [
    "G = nx.Graph() # 空のグラフ生成\n",
    "\n",
    "# 重み付きグラフの生成\n",
    "G.add_weighted_edges_from([('S', 'A', 8), ('S', 'B', 9), ('S', 'C', 4), ('A', 'B', 5), \n",
    "                           ('A', 'D', 6), ('B', 'C', 1), ('B', 'D', 4), ('B', 'E', 2), \n",
    "                           ('C', 'E', 6), ('D', 'G', 9), ('E', 'G', 3)])\n",
    "\n",
    "# 各ノードの座標\n",
    "pos = {'S':(0,0), 'A':(1,1), 'B':(1,0), 'C':(1,-1), 'D':(2,1), 'E':(2,-1), 'G':(3, 0)}\n",
    "\n",
    "# 重みの表示\n",
    "edge_labels=dict([((u,v,),d['weight']) for u,v,d in G.edges(data=True)])\n",
    "nx.draw_networkx_edge_labels(G,pos,edge_labels=edge_labels)\n",
    "\n",
    "# 描画\n",
    "nx.draw(G, pos, with_labels=True)"
   ]
  },
  {
   "cell_type": "markdown",
   "metadata": {},
   "source": [
    "## NetworkXの組み込み関数を用いたA*アルゴリズムの実装"
   ]
  },
  {
   "cell_type": "code",
   "execution_count": 3,
   "metadata": {},
   "outputs": [
    {
     "name": "stdout",
     "output_type": "stream",
     "text": [
      "['S', 'C', 'B', 'E', 'G']\n",
      "10\n"
     ]
    }
   ],
   "source": [
    "def dist(a, b):\n",
    "    (x1, y1) = pos[a]\n",
    "    (x2, y2) = pos[b]\n",
    "    return ((x1 - x2) ** 2 + (y1 - y2) ** 2) ** 0.5\n",
    "\n",
    "print(nx.astar_path(G, 'S', 'G', heuristic=dist, weight='weight'))\n",
    "print(nx.astar_path_length(G, 'S', 'G', heuristic=dist, weight='weight'))"
   ]
  },
  {
   "cell_type": "markdown",
   "metadata": {},
   "source": [
    "## 距離の計算部分"
   ]
  },
  {
   "cell_type": "code",
   "execution_count": 4,
   "metadata": {},
   "outputs": [
    {
     "name": "stdout",
     "output_type": "stream",
     "text": [
      "(0, 0)\n",
      "(3, 0)\n",
      "3.0\n",
      "2.23606797749979\n",
      "1.4142135623730951\n"
     ]
    }
   ],
   "source": [
    "print(pos['S'])\n",
    "print(pos['G'])\n",
    "print(dist('S', 'G'))\n",
    "print(dist('A', 'G'))\n",
    "print(dist('D', 'G'))"
   ]
  }
 ],
 "metadata": {
  "kernelspec": {
   "display_name": "Python 3",
   "language": "python",
   "name": "python3"
  },
  "language_info": {
   "codemirror_mode": {
    "name": "ipython",
    "version": 3
   },
   "file_extension": ".py",
   "mimetype": "text/x-python",
   "name": "python",
   "nbconvert_exporter": "python",
   "pygments_lexer": "ipython3",
   "version": "3.8.5"
  }
 },
 "nbformat": 4,
 "nbformat_minor": 4
}
